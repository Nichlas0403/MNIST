{
  "nbformat": 4,
  "nbformat_minor": 0,
  "metadata": {
    "colab": {
      "name": "MNIST.ipynb",
      "provenance": [],
      "toc_visible": true,
      "mount_file_id": "1h872WHlCFajGXGmFFmjsyLqpQccPexf2",
      "authorship_tag": "ABX9TyNQdq4VwEbgLQaJs1RMkWwG",
      "include_colab_link": true
    },
    "kernelspec": {
      "name": "python3",
      "display_name": "Python 3"
    },
    "language_info": {
      "name": "python"
    },
    "accelerator": "GPU"
  },
  "cells": [
    {
      "cell_type": "markdown",
      "metadata": {
        "id": "view-in-github",
        "colab_type": "text"
      },
      "source": [
        "<a href=\"https://colab.research.google.com/github/Nichlas0403/MNIST/blob/main/MNIST.ipynb\" target=\"_parent\"><img src=\"https://colab.research.google.com/assets/colab-badge.svg\" alt=\"Open In Colab\"/></a>"
      ]
    },
    {
      "cell_type": "markdown",
      "metadata": {
        "id": "FIKadLUKlHns"
      },
      "source": [
        "#Preparation"
      ]
    },
    {
      "cell_type": "code",
      "metadata": {
        "id": "b8-ZCEw9k57-"
      },
      "source": [
        "#import baseline tools\n",
        "import numpy as np\n",
        "import pandas as pd\n",
        "import matplotlib.pyplot as plt\n",
        "%matplotlib inline\n",
        "import tensorflow as tf\n",
        "import tensorflow.keras"
      ],
      "execution_count": 3,
      "outputs": []
    },
    {
      "cell_type": "code",
      "metadata": {
        "id": "EziaE05dlTkW"
      },
      "source": [
        "#import ImageDataGenerator\n",
        "from keras.preprocessing.image import ImageDataGenerator\n",
        "from keras.preprocessing import image"
      ],
      "execution_count": 4,
      "outputs": []
    },
    {
      "cell_type": "markdown",
      "metadata": {
        "id": "MXEyY97CWLMc"
      },
      "source": [
        "##Create validation data"
      ]
    },
    {
      "cell_type": "code",
      "metadata": {
        "id": "jZMuxI-1R6CL"
      },
      "source": [
        "import os\n",
        "import random\n",
        "import shutil"
      ],
      "execution_count": null,
      "outputs": []
    },
    {
      "cell_type": "code",
      "metadata": {
        "id": "-odE45csOw_G"
      },
      "source": [
        "#create validation data\n",
        "os.chdir('/content/drive/MyDrive/Data Science, Machine Learning/Colab Notebooks/Deep Learning Projects/Convolutional Neural Networks/Multi Classification/MNIST/data/Training')\n",
        "\n",
        "for dir in range(0,10):\n",
        "  for file in random.sample(os.listdir(f\"/content/drive/MyDrive/Data Science, Machine Learning/Colab Notebooks/Deep Learning Projects/Convolutional Neural Networks/Multi Classification/MNIST/data/Training/{dir}\"),\n",
        "                            400):\n",
        "    shutil.move(f\"/content/drive/MyDrive/Data Science, Machine Learning/Colab Notebooks/Deep Learning Projects/Convolutional Neural Networks/Multi Classification/MNIST/data/Training/{dir}/{file}\", \n",
        "                f\"/content/drive/MyDrive/Data Science, Machine Learning/Colab Notebooks/Deep Learning Projects/Convolutional Neural Networks/Multi Classification/MNIST/data/Validation/{dir}\")"
      ],
      "execution_count": null,
      "outputs": []
    },
    {
      "cell_type": "code",
      "metadata": {
        "colab": {
          "base_uri": "https://localhost:8080/"
        },
        "id": "5XAgtEH9WB6H",
        "outputId": "8d054e1f-18b4-48fd-f277-73d0b554d8a4"
      },
      "source": [
        "#length of validation/0\n",
        "len(os.listdir(\"/content/drive/MyDrive/Data Science, Machine Learning/Colab Notebooks/Deep Learning Projects/Convolutional Neural Networks/Multi Classification/MNIST/data/Validation/0\"))"
      ],
      "execution_count": null,
      "outputs": [
        {
          "output_type": "execute_result",
          "data": {
            "text/plain": [
              "800"
            ]
          },
          "metadata": {
            "tags": []
          },
          "execution_count": 120
        }
      ]
    },
    {
      "cell_type": "markdown",
      "metadata": {
        "id": "bVnd6ED2WNOh"
      },
      "source": [
        "##Create ImageDataGenerators"
      ]
    },
    {
      "cell_type": "markdown",
      "metadata": {
        "id": "69oKWV0oW6hc"
      },
      "source": [
        "###Train_generator"
      ]
    },
    {
      "cell_type": "code",
      "metadata": {
        "id": "RJSlkQxFldXW"
      },
      "source": [
        "train_generator = ImageDataGenerator(\n",
        "    rescale=1./255, #normalize data\n",
        "    shear_range=0.3, \n",
        "    zoom_range=0.3\n",
        ")"
      ],
      "execution_count": 5,
      "outputs": []
    },
    {
      "cell_type": "code",
      "metadata": {
        "colab": {
          "base_uri": "https://localhost:8080/"
        },
        "id": "VDObuXH5lqqb",
        "outputId": "90a8a0db-008e-4983-8956-76f0b1cad626"
      },
      "source": [
        "train_set = train_generator.flow_from_directory(\n",
        "    \"/content/drive/MyDrive/Data Science, Machine Learning/Colab Notebooks/Deep Learning Projects/Convolutional Neural Networks/Multi Classification/MNIST/data/Training\",\n",
        "    target_size=(64,64),\n",
        "    batch_size=32,\n",
        "    color_mode=\"grayscale\",\n",
        "    classes={\n",
        "        \"0\":0,\n",
        "        \"1\":1,\n",
        "        \"2\":2,\n",
        "        \"3\":3,\n",
        "        \"4\":4,\n",
        "        \"5\":5,\n",
        "        \"6\":6,\n",
        "        \"7\":7,\n",
        "        \"8\":8,\n",
        "        \"9\":9\n",
        "    }\n",
        ")"
      ],
      "execution_count": 6,
      "outputs": [
        {
          "output_type": "stream",
          "text": [
            "Found 30000 images belonging to 10 classes.\n"
          ],
          "name": "stdout"
        }
      ]
    },
    {
      "cell_type": "code",
      "metadata": {
        "id": "PNzoybFKvLoS"
      },
      "source": [
        "data, label = train_set.next()"
      ],
      "execution_count": 7,
      "outputs": []
    },
    {
      "cell_type": "code",
      "metadata": {
        "colab": {
          "base_uri": "https://localhost:8080/"
        },
        "id": "rhHkur6evzLx",
        "outputId": "cc6ba855-3888-4db7-8164-a6b190022313"
      },
      "source": [
        "data.shape"
      ],
      "execution_count": null,
      "outputs": [
        {
          "output_type": "execute_result",
          "data": {
            "text/plain": [
              "(32, 64, 64, 1)"
            ]
          },
          "metadata": {
            "tags": []
          },
          "execution_count": 24
        }
      ]
    },
    {
      "cell_type": "code",
      "metadata": {
        "colab": {
          "base_uri": "https://localhost:8080/"
        },
        "id": "VEZ7WZK3v1__",
        "outputId": "ff2db6dd-1bd1-40d0-bc25-a84753b42e0b"
      },
      "source": [
        "data[0].shape"
      ],
      "execution_count": null,
      "outputs": [
        {
          "output_type": "execute_result",
          "data": {
            "text/plain": [
              "(64, 64, 1)"
            ]
          },
          "metadata": {
            "tags": []
          },
          "execution_count": 25
        }
      ]
    },
    {
      "cell_type": "code",
      "metadata": {
        "colab": {
          "base_uri": "https://localhost:8080/"
        },
        "id": "p81M3ByjSc9D",
        "outputId": "d9618d4c-73d3-4efd-fcd4-1dd78393ad10"
      },
      "source": [
        "data[0][0]"
      ],
      "execution_count": 11,
      "outputs": [
        {
          "output_type": "execute_result",
          "data": {
            "text/plain": [
              "array([[0.        ],\n",
              "       [0.        ],\n",
              "       [0.        ],\n",
              "       [0.        ],\n",
              "       [0.        ],\n",
              "       [0.        ],\n",
              "       [0.        ],\n",
              "       [0.        ],\n",
              "       [0.        ],\n",
              "       [0.        ],\n",
              "       [0.        ],\n",
              "       [0.        ],\n",
              "       [0.        ],\n",
              "       [0.        ],\n",
              "       [0.        ],\n",
              "       [0.        ],\n",
              "       [0.        ],\n",
              "       [0.        ],\n",
              "       [0.        ],\n",
              "       [0.        ],\n",
              "       [0.        ],\n",
              "       [0.02423763],\n",
              "       [0.02417469],\n",
              "       [0.01024381],\n",
              "       [0.        ],\n",
              "       [0.        ],\n",
              "       [0.00489311],\n",
              "       [0.01431601],\n",
              "       [0.01142492],\n",
              "       [0.01093945],\n",
              "       [0.00698869],\n",
              "       [0.        ],\n",
              "       [0.        ],\n",
              "       [0.00150145],\n",
              "       [0.01176471],\n",
              "       [0.01176471],\n",
              "       [0.01613732],\n",
              "       [0.02912582],\n",
              "       [0.1005597 ],\n",
              "       [0.5058578 ],\n",
              "       [0.71811885],\n",
              "       [0.76772463],\n",
              "       [0.77067   ],\n",
              "       [0.26528904],\n",
              "       [0.02628095],\n",
              "       [0.01033859],\n",
              "       [0.02488738],\n",
              "       [0.04319744],\n",
              "       [0.04336108],\n",
              "       [0.00344109],\n",
              "       [0.00179444],\n",
              "       [0.        ],\n",
              "       [0.        ],\n",
              "       [0.        ],\n",
              "       [0.        ],\n",
              "       [0.        ],\n",
              "       [0.        ],\n",
              "       [0.        ],\n",
              "       [0.        ],\n",
              "       [0.        ],\n",
              "       [0.        ],\n",
              "       [0.        ],\n",
              "       [0.        ],\n",
              "       [0.        ]], dtype=float32)"
            ]
          },
          "metadata": {
            "tags": []
          },
          "execution_count": 11
        }
      ]
    },
    {
      "cell_type": "code",
      "metadata": {
        "colab": {
          "base_uri": "https://localhost:8080/",
          "height": 81
        },
        "id": "6plTlPhIvS_Y",
        "outputId": "44120647-4db4-4f3b-c858-bb4b732724a6"
      },
      "source": [
        "image.array_to_img(data[0])"
      ],
      "execution_count": null,
      "outputs": [
        {
          "output_type": "execute_result",
          "data": {
            "image/png": "[encoded data removed]",
            "text/plain": [
              "<PIL.Image.Image image mode=L size=64x64 at 0x7F11A9E8C110>"
            ]
          },
          "metadata": {
            "tags": []
          },
          "execution_count": 26
        }
      ]
    },
    {
      "cell_type": "code",
      "metadata": {
        "colab": {
          "base_uri": "https://localhost:8080/"
        },
        "id": "ji3AegTLvgcd",
        "outputId": "69c8693b-f577-4535-ec0c-bb9057cb9561"
      },
      "source": [
        "label[0]"
      ],
      "execution_count": null,
      "outputs": [
        {
          "output_type": "execute_result",
          "data": {
            "text/plain": [
              "array([0., 0., 0., 0., 0., 0., 0., 1., 0., 0.], dtype=float32)"
            ]
          },
          "metadata": {
            "tags": []
          },
          "execution_count": 27
        }
      ]
    },
    {
      "cell_type": "markdown",
      "metadata": {
        "id": "wokDB39Ql2z0"
      },
      "source": [
        "###Validation_generator"
      ]
    },
    {
      "cell_type": "code",
      "metadata": {
        "id": "4Jh4TlNhW-nn"
      },
      "source": [
        "validation_generator = ImageDataGenerator(rescale=1./255)"
      ],
      "execution_count": null,
      "outputs": []
    },
    {
      "cell_type": "code",
      "metadata": {
        "colab": {
          "base_uri": "https://localhost:8080/"
        },
        "id": "vDy686ClXEHQ",
        "outputId": "11953326-b4be-402a-8b71-7ea670c4447f"
      },
      "source": [
        "validation_set = validation_generator.flow_from_directory(\n",
        "    \"/content/drive/MyDrive/Data Science, Machine Learning/Colab Notebooks/Deep Learning Projects/Convolutional Neural Networks/Multi Classification/MNIST/data/Validation\",\n",
        "    target_size=(64,64),\n",
        "    batch_size=32,\n",
        "    color_mode=\"grayscale\",\n",
        "    classes={\n",
        "        \"0\":0,\n",
        "        \"1\":1,\n",
        "        \"2\":2,\n",
        "        \"3\":3,\n",
        "        \"4\":4,\n",
        "        \"5\":5,\n",
        "        \"6\":6,\n",
        "        \"7\":7,\n",
        "        \"8\":8,\n",
        "        \"9\":9\n",
        "    }\n",
        ")"
      ],
      "execution_count": null,
      "outputs": [
        {
          "output_type": "stream",
          "text": [
            "Found 8000 images belonging to 10 classes.\n"
          ],
          "name": "stdout"
        }
      ]
    },
    {
      "cell_type": "markdown",
      "metadata": {
        "id": "LhfBxXLr1xoS"
      },
      "source": [
        "##Show augmented image"
      ]
    },
    {
      "cell_type": "code",
      "metadata": {
        "id": "od2llc803kly"
      },
      "source": [
        "#Original image\n",
        "original = image.load_img(\"/content/drive/MyDrive/Data Science, Machine Learning/Colab Notebooks/Deep Learning Projects/Convolutional Neural Networks/Multi Classification/MNIST/data/Training/2/img_10011.jpg\",\n",
        "               target_size=(64,64))\n"
      ],
      "execution_count": null,
      "outputs": []
    },
    {
      "cell_type": "code",
      "metadata": {
        "id": "52pISXLY2MKJ"
      },
      "source": [
        "generator = tf.keras.preprocessing.image.ImageDataGenerator(\n",
        "    rescale=1./255,\n",
        "    shear_range=0.3,\n",
        "    zoom_range=0.3\n",
        ")"
      ],
      "execution_count": null,
      "outputs": []
    },
    {
      "cell_type": "code",
      "metadata": {
        "id": "S4F4QTbd3wyd"
      },
      "source": [
        "np.random.seed(42)\n",
        "\n",
        "aug_images = []\n",
        "counter = 0\n",
        "for batch in generator.flow(np.expand_dims(original,0),\n",
        "                            batch_size=5,\n",
        "                            save_format=\"jpeg\",\n",
        "                            seed=42):\n",
        "  \n",
        "  aug_images.append(batch)\n",
        "  if len(aug_images) == 5:\n",
        "    break"
      ],
      "execution_count": null,
      "outputs": []
    },
    {
      "cell_type": "code",
      "metadata": {
        "colab": {
          "base_uri": "https://localhost:8080/",
          "height": 81
        },
        "id": "3KTSeDMn7YkP",
        "outputId": "8f190e79-076e-4bdb-8e56-326350918346"
      },
      "source": [
        "original"
      ],
      "execution_count": null,
      "outputs": [
        {
          "output_type": "execute_result",
          "data": {
            "image/png": "[encoded data removed]",
            "text/plain": [
              "<PIL.Image.Image image mode=RGB size=64x64 at 0x7FE7F499BC50>"
            ]
          },
          "metadata": {
            "tags": []
          },
          "execution_count": 23
        }
      ]
    },
    {
      "cell_type": "code",
      "metadata": {
        "colab": {
          "base_uri": "https://localhost:8080/",
          "height": 81
        },
        "id": "QYtlTRh_36k0",
        "outputId": "09b54f31-c2d3-4e19-b917-ec297fab0071"
      },
      "source": [
        "image.array_to_img(np.squeeze(aug_images[0],axis=0))"
      ],
      "execution_count": null,
      "outputs": [
        {
          "output_type": "execute_result",
          "data": {
            "image/png": "[encoded data removed]",
            "text/plain": [
              "<PIL.Image.Image image mode=RGB size=64x64 at 0x7FE7F498AD90>"
            ]
          },
          "metadata": {
            "tags": []
          },
          "execution_count": 24
        }
      ]
    },
    {
      "cell_type": "code",
      "metadata": {
        "colab": {
          "base_uri": "https://localhost:8080/",
          "height": 81
        },
        "id": "Sd3pO6i34BWT",
        "outputId": "d257f37f-c5f4-40b4-9c8a-c95ae45c24d0"
      },
      "source": [
        "image.array_to_img(np.squeeze(aug_images[1],axis=0))"
      ],
      "execution_count": null,
      "outputs": [
        {
          "output_type": "execute_result",
          "data": {
            "image/png": "[encoded data removed]",
            "text/plain": [
              "<PIL.Image.Image image mode=RGB size=64x64 at 0x7FE7F498AF90>"
            ]
          },
          "metadata": {
            "tags": []
          },
          "execution_count": 25
        }
      ]
    },
    {
      "cell_type": "code",
      "metadata": {
        "colab": {
          "base_uri": "https://localhost:8080/",
          "height": 81
        },
        "id": "SIugL18O4Clj",
        "outputId": "10c3c4a3-2f82-4aba-855f-5941006d62ff"
      },
      "source": [
        "image.array_to_img(np.squeeze(aug_images[2],axis=0))"
      ],
      "execution_count": null,
      "outputs": [
        {
          "output_type": "execute_result",
          "data": {
            "image/png": "[encoded data removed]",
            "text/plain": [
              "<PIL.Image.Image image mode=RGB size=64x64 at 0x7FE7F4A00AD0>"
            ]
          },
          "metadata": {
            "tags": []
          },
          "execution_count": 26
        }
      ]
    },
    {
      "cell_type": "code",
      "metadata": {
        "colab": {
          "base_uri": "https://localhost:8080/",
          "height": 81
        },
        "id": "73jEFj1Y4JXH",
        "outputId": "783575f1-03e4-4b93-b1c7-e13589bdbb4c"
      },
      "source": [
        "image.array_to_img(np.squeeze(aug_images[3],axis=0))"
      ],
      "execution_count": null,
      "outputs": [
        {
          "output_type": "execute_result",
          "data": {
            "image/png": "[encoded data removed]",
            "text/plain": [
              "<PIL.Image.Image image mode=RGB size=64x64 at 0x7FE7F4A00A10>"
            ]
          },
          "metadata": {
            "tags": []
          },
          "execution_count": 27
        }
      ]
    },
    {
      "cell_type": "code",
      "metadata": {
        "colab": {
          "base_uri": "https://localhost:8080/",
          "height": 81
        },
        "id": "z27tprSG4Dy5",
        "outputId": "27425d87-6eca-42c7-fdcf-b57ec29cf337"
      },
      "source": [
        "image.array_to_img(np.squeeze(aug_images[4],axis=0))"
      ],
      "execution_count": null,
      "outputs": [
        {
          "output_type": "execute_result",
          "data": {
            "image/png": "[encoded data removed]",
            "text/plain": [
              "<PIL.Image.Image image mode=RGB size=64x64 at 0x7FE7F5CA4AD0>"
            ]
          },
          "metadata": {
            "tags": []
          },
          "execution_count": 28
        }
      ]
    },
    {
      "cell_type": "markdown",
      "metadata": {
        "id": "3pxT5jvYYQZL"
      },
      "source": [
        "#Check folders\n",
        "\n",
        "- Check each folder contains the correct images"
      ]
    },
    {
      "cell_type": "markdown",
      "metadata": {
        "id": "wyn9bN3WZ2st"
      },
      "source": [
        "##Training"
      ]
    },
    {
      "cell_type": "code",
      "metadata": {
        "colab": {
          "base_uri": "https://localhost:8080/",
          "height": 81
        },
        "id": "rlOwrcWcZ9d9",
        "outputId": "d9302df0-3bef-4269-dc04-0b386757540c"
      },
      "source": [
        "image.load_img(\"/content/drive/MyDrive/Data Science, Machine Learning/Colab Notebooks/Deep Learning Projects/Convolutional Neural Networks/Multi Classification/MNIST/data/Training/0/img_1.jpg\",\n",
        "               target_size=(64,64))"
      ],
      "execution_count": null,
      "outputs": [
        {
          "output_type": "execute_result",
          "data": {
            "image/png": "[encoded data removed]",
            "text/plain": [
              "<PIL.Image.Image image mode=RGB size=64x64 at 0x7FBE8A80B2D0>"
            ]
          },
          "metadata": {
            "tags": []
          },
          "execution_count": 134
        }
      ]
    },
    {
      "cell_type": "code",
      "metadata": {
        "colab": {
          "base_uri": "https://localhost:8080/",
          "height": 81
        },
        "id": "t8BdaK1Fb3P3",
        "outputId": "8dc91cf1-7b71-4a8c-fa67-8c26760eb7de"
      },
      "source": [
        "image.load_img(\"/content/drive/MyDrive/Data Science, Machine Learning/Colab Notebooks/Deep Learning Projects/Convolutional Neural Networks/Multi Classification/MNIST/data/Training/1/img_0.jpg\",\n",
        "               target_size=(64,64))"
      ],
      "execution_count": null,
      "outputs": [
        {
          "output_type": "execute_result",
          "data": {
            "image/png": "[encoded data removed]",
            "text/plain": [
              "<PIL.Image.Image image mode=RGB size=64x64 at 0x7FBE4E7BAFD0>"
            ]
          },
          "metadata": {
            "tags": []
          },
          "execution_count": 135
        }
      ]
    },
    {
      "cell_type": "code",
      "metadata": {
        "colab": {
          "base_uri": "https://localhost:8080/",
          "height": 81
        },
        "id": "iWyIeyXNb9bq",
        "outputId": "2caf5c97-1f6f-4bd1-ec1a-09fc5393a359"
      },
      "source": [
        "image.load_img(\"/content/drive/MyDrive/Data Science, Machine Learning/Colab Notebooks/Deep Learning Projects/Convolutional Neural Networks/Multi Classification/MNIST/data/Training/2/img_16.jpg\",\n",
        "               target_size=(64,64))"
      ],
      "execution_count": null,
      "outputs": [
        {
          "output_type": "execute_result",
          "data": {
            "image/png": "[encoded data removed]",
            "text/plain": [
              "<PIL.Image.Image image mode=RGB size=64x64 at 0x7FBE0006D590>"
            ]
          },
          "metadata": {
            "tags": []
          },
          "execution_count": 136
        }
      ]
    },
    {
      "cell_type": "code",
      "metadata": {
        "colab": {
          "base_uri": "https://localhost:8080/",
          "height": 81
        },
        "id": "8skoZ4d5cULR",
        "outputId": "27fbeb89-7dfc-4101-e42b-f81fa81954e2"
      },
      "source": [
        "image.load_img(\"/content/drive/MyDrive/Data Science, Machine Learning/Colab Notebooks/Deep Learning Projects/Convolutional Neural Networks/Multi Classification/MNIST/data/Training/3/img_7.jpg\",\n",
        "               target_size=(64,64))"
      ],
      "execution_count": null,
      "outputs": [
        {
          "output_type": "execute_result",
          "data": {
            "image/png": "[encoded data removed]",
            "text/plain": [
              "<PIL.Image.Image image mode=RGB size=64x64 at 0x7FBE8A96B690>"
            ]
          },
          "metadata": {
            "tags": []
          },
          "execution_count": 137
        }
      ]
    },
    {
      "cell_type": "code",
      "metadata": {
        "colab": {
          "base_uri": "https://localhost:8080/",
          "height": 81
        },
        "id": "G4QfYLNJcaMD",
        "outputId": "4e34ca81-b7ad-49fc-927a-9f5f4bff0d98"
      },
      "source": [
        "image.load_img(\"/content/drive/MyDrive/Data Science, Machine Learning/Colab Notebooks/Deep Learning Projects/Convolutional Neural Networks/Multi Classification/MNIST/data/Training/4/img_3.jpg\",\n",
        "               target_size=(64,64))"
      ],
      "execution_count": null,
      "outputs": [
        {
          "output_type": "execute_result",
          "data": {
            "image/png": "[encoded data removed]",
            "text/plain": [
              "<PIL.Image.Image image mode=RGB size=64x64 at 0x7FBE8A802350>"
            ]
          },
          "metadata": {
            "tags": []
          },
          "execution_count": 138
        }
      ]
    },
    {
      "cell_type": "code",
      "metadata": {
        "colab": {
          "base_uri": "https://localhost:8080/",
          "height": 81
        },
        "id": "PROD21YhcfBz",
        "outputId": "0e977874-5930-4094-a8ce-2568e77d61e5"
      },
      "source": [
        "image.load_img(\"/content/drive/MyDrive/Data Science, Machine Learning/Colab Notebooks/Deep Learning Projects/Convolutional Neural Networks/Multi Classification/MNIST/data/Training/5/img_10001.jpg\",\n",
        "               target_size=(64,64))"
      ],
      "execution_count": null,
      "outputs": [
        {
          "output_type": "execute_result",
          "data": {
            "image/png": "[encoded data removed]",
            "text/plain": [
              "<PIL.Image.Image image mode=RGB size=64x64 at 0x7FBE8A802AD0>"
            ]
          },
          "metadata": {
            "tags": []
          },
          "execution_count": 139
        }
      ]
    },
    {
      "cell_type": "code",
      "metadata": {
        "colab": {
          "base_uri": "https://localhost:8080/",
          "height": 81
        },
        "id": "5NXYIOtzclFD",
        "outputId": "43c2021c-2c87-4457-dd5a-4109ebdb0429"
      },
      "source": [
        "image.load_img(\"/content/drive/MyDrive/Data Science, Machine Learning/Colab Notebooks/Deep Learning Projects/Convolutional Neural Networks/Multi Classification/MNIST/data/Training/6/img_45.jpg\",\n",
        "               target_size=(64,64))"
      ],
      "execution_count": null,
      "outputs": [
        {
          "output_type": "execute_result",
          "data": {
            "image/png": "[encoded data removed]",
            "text/plain": [
              "<PIL.Image.Image image mode=RGB size=64x64 at 0x7FBE4E1AEE10>"
            ]
          },
          "metadata": {
            "tags": []
          },
          "execution_count": 140
        }
      ]
    },
    {
      "cell_type": "code",
      "metadata": {
        "colab": {
          "base_uri": "https://localhost:8080/",
          "height": 81
        },
        "id": "dVJh3AXrdAHZ",
        "outputId": "53a2b6e0-3738-4917-b7ab-244d8ea5486d"
      },
      "source": [
        "image.load_img(\"/content/drive/MyDrive/Data Science, Machine Learning/Colab Notebooks/Deep Learning Projects/Convolutional Neural Networks/Multi Classification/MNIST/data/Training/7/img_6.jpg\",\n",
        "               target_size=(64,64))"
      ],
      "execution_count": null,
      "outputs": [
        {
          "output_type": "execute_result",
          "data": {
            "image/png": "[encoded data removed]",
            "text/plain": [
              "<PIL.Image.Image image mode=RGB size=64x64 at 0x7FBE4E1AF790>"
            ]
          },
          "metadata": {
            "tags": []
          },
          "execution_count": 141
        }
      ]
    },
    {
      "cell_type": "code",
      "metadata": {
        "colab": {
          "base_uri": "https://localhost:8080/",
          "height": 81
        },
        "id": "IbcOIXOBdEpx",
        "outputId": "015d320d-6079-45c8-b9a0-6b89a3ec8249"
      },
      "source": [
        "image.load_img(\"/content/drive/MyDrive/Data Science, Machine Learning/Colab Notebooks/Deep Learning Projects/Convolutional Neural Networks/Multi Classification/MNIST/data/Training/8/img_10024.jpg\",\n",
        "               target_size=(64,64))"
      ],
      "execution_count": null,
      "outputs": [
        {
          "output_type": "execute_result",
          "data": {
            "image/png": "[encoded data removed]",
            "text/plain": [
              "<PIL.Image.Image image mode=RGB size=64x64 at 0x7FBE8A7F5F90>"
            ]
          },
          "metadata": {
            "tags": []
          },
          "execution_count": 147
        }
      ]
    },
    {
      "cell_type": "code",
      "metadata": {
        "colab": {
          "base_uri": "https://localhost:8080/",
          "height": 81
        },
        "id": "9grFrDZWdK8f",
        "outputId": "304e14dd-8f3d-41d3-bd87-d4e2351db348"
      },
      "source": [
        "image.load_img(\"/content/drive/MyDrive/Data Science, Machine Learning/Colab Notebooks/Deep Learning Projects/Convolutional Neural Networks/Multi Classification/MNIST/data/Training/9/img_100.jpg\",\n",
        "               target_size=(64,64))"
      ],
      "execution_count": null,
      "outputs": [
        {
          "output_type": "execute_result",
          "data": {
            "image/png": "[encoded data removed]",
            "text/plain": [
              "<PIL.Image.Image image mode=RGB size=64x64 at 0x7FBE8A9D6590>"
            ]
          },
          "metadata": {
            "tags": []
          },
          "execution_count": 149
        }
      ]
    },
    {
      "cell_type": "markdown",
      "metadata": {
        "id": "J-Qjk_nndQA_"
      },
      "source": [
        "#Modelling"
      ]
    },
    {
      "cell_type": "markdown",
      "metadata": {
        "id": "fWR1HHimdVGc"
      },
      "source": [
        "#Create CNN"
      ]
    },
    {
      "cell_type": "code",
      "metadata": {
        "id": "nqBKWaVXdcOX"
      },
      "source": [
        "from tensorflow.keras.models import Sequential\n",
        "from tensorflow.keras.layers import Conv2D, MaxPool2D, Flatten, Dense, BatchNormalization, Input"
      ],
      "execution_count": 12,
      "outputs": []
    },
    {
      "cell_type": "code",
      "metadata": {
        "id": "D6CWFedSdYF7"
      },
      "source": [
        "cnn = Sequential([\n",
        "                  Input(shape=[64,64,1]),\n",
        "                  #filters=outputstørrelse\n",
        "                  #kernel_size=filter_størrelse (her 3x3)\n",
        "                  Conv2D(filters=32, kernel_size=3,activation=\"relu\"),\n",
        "                  MaxPool2D(pool_size=2, strides=2),\n",
        "                  Conv2D(filters=32, kernel_size=3, activation=\"relu\"),\n",
        "                  MaxPool2D(pool_size=2, strides=2),\n",
        "                  Conv2D(filters=32, kernel_size=3, activation=\"relu\"),\n",
        "                  MaxPool2D(pool_size=2, strides=2),\n",
        "                  Flatten(),\n",
        "                  Dense(units=4180, activation=\"relu\"), \n",
        "                  Dense(units=4180, activation=\"relu\"),\n",
        "                  Dense(units=10, activation=\"softmax\")\n",
        "])"
      ],
      "execution_count": null,
      "outputs": []
    },
    {
      "cell_type": "code",
      "metadata": {
        "id": "wzDFpVzReZW0"
      },
      "source": [
        "cnn.compile(optimizer=\"adam\", loss=\"categorical_crossentropy\", metrics=[\"accuracy\"])"
      ],
      "execution_count": null,
      "outputs": []
    },
    {
      "cell_type": "code",
      "metadata": {
        "colab": {
          "base_uri": "https://localhost:8080/"
        },
        "id": "xniX_tW4ed7M",
        "outputId": "91b8477c-1148-4797-8f37-b36cde366f5d"
      },
      "source": [
        "cnn.fit(x=train_set, validation_data=validation_set, epochs=10)"
      ],
      "execution_count": null,
      "outputs": [
        {
          "output_type": "stream",
          "text": [
            "Epoch 1/10\n",
            "938/938 [==============================] - 93s 98ms/step - loss: 0.3890 - accuracy: 0.8741 - val_loss: 0.0692 - val_accuracy: 0.9796\n",
            "Epoch 2/10\n",
            "938/938 [==============================] - 74s 79ms/step - loss: 0.0889 - accuracy: 0.9733 - val_loss: 0.0648 - val_accuracy: 0.9796\n",
            "Epoch 3/10\n",
            "938/938 [==============================] - 74s 78ms/step - loss: 0.0717 - accuracy: 0.9803 - val_loss: 0.0672 - val_accuracy: 0.9818\n",
            "Epoch 4/10\n",
            "938/938 [==============================] - 73s 78ms/step - loss: 0.0576 - accuracy: 0.9823 - val_loss: 0.0608 - val_accuracy: 0.9858\n",
            "Epoch 5/10\n",
            "938/938 [==============================] - 70s 75ms/step - loss: 0.0524 - accuracy: 0.9843 - val_loss: 0.0788 - val_accuracy: 0.9840\n",
            "Epoch 6/10\n",
            "938/938 [==============================] - 71s 76ms/step - loss: 0.0429 - accuracy: 0.9863 - val_loss: 0.0734 - val_accuracy: 0.9844\n",
            "Epoch 7/10\n",
            "938/938 [==============================] - 71s 75ms/step - loss: 0.0400 - accuracy: 0.9885 - val_loss: 0.0704 - val_accuracy: 0.9833\n",
            "Epoch 8/10\n",
            "938/938 [==============================] - 71s 75ms/step - loss: 0.0365 - accuracy: 0.9895 - val_loss: 0.0671 - val_accuracy: 0.9856\n",
            "Epoch 9/10\n",
            "938/938 [==============================] - 70s 75ms/step - loss: 0.0340 - accuracy: 0.9901 - val_loss: 0.0597 - val_accuracy: 0.9861\n",
            "Epoch 10/10\n",
            "938/938 [==============================] - 71s 75ms/step - loss: 0.0315 - accuracy: 0.9909 - val_loss: 0.0756 - val_accuracy: 0.9869\n"
          ],
          "name": "stdout"
        },
        {
          "output_type": "execute_result",
          "data": {
            "text/plain": [
              "<tensorflow.python.keras.callbacks.History at 0x7fbe000eb610>"
            ]
          },
          "metadata": {
            "tags": []
          },
          "execution_count": 153
        }
      ]
    },
    {
      "cell_type": "code",
      "metadata": {
        "colab": {
          "base_uri": "https://localhost:8080/"
        },
        "id": "gorZeTOOfPFI",
        "outputId": "c33766a7-49d4-4502-f05f-be6e413112d5"
      },
      "source": [
        "cnn.save(\"/content/drive/MyDrive/Data Science, Machine Learning/Colab Notebooks/Deep Learning Projects/Convolutional Neural Networks/Multi Classification/MNIST/models/baseline_model\")"
      ],
      "execution_count": null,
      "outputs": [
        {
          "output_type": "stream",
          "text": [
            "INFO:tensorflow:Assets written to: /content/drive/MyDrive/Data Science, Machine Learning/Colab Notebooks/Deep Learning Projects/Convolutional Neural Networks/Multi Classification/MNIST/models/baseline_model/assets\n"
          ],
          "name": "stdout"
        }
      ]
    },
    {
      "cell_type": "code",
      "metadata": {
        "id": "X3XiURuybc6-"
      },
      "source": [
        "cnn = tf.keras.models.load_model(\"/content/drive/MyDrive/Data Science, Machine Learning/Colab Notebooks/Deep Learning Projects/Convolutional Neural Networks/Multi Classification/MNIST/models/baseline_model\")"
      ],
      "execution_count": 13,
      "outputs": []
    },
    {
      "cell_type": "code",
      "metadata": {
        "id": "PdmOgrJ-CwmA",
        "colab": {
          "base_uri": "https://localhost:8080/"
        },
        "outputId": "52ac9519-886a-4617-bb4b-6f52ad53f575"
      },
      "source": [
        "cnn.weights"
      ],
      "execution_count": 14,
      "outputs": [
        {
          "output_type": "execute_result",
          "data": {
            "text/plain": [
              "[<tf.Variable 'conv2d_3/kernel:0' shape=(3, 3, 1, 32) dtype=float32, numpy=\n",
              " array([[[[-0.11650559,  0.18947046, -0.05771649, -0.04849454,\n",
              "            0.12655354, -0.04472309,  0.02226377, -0.0055232 ,\n",
              "            0.07232951,  0.03044857, -0.09056964,  0.04678421,\n",
              "            0.07939527, -0.13881828,  0.19700348, -0.0585065 ,\n",
              "           -0.00948833, -0.00678878, -0.07651769,  0.0501939 ,\n",
              "           -0.16630232,  0.11654419, -0.0911134 ,  0.06297964,\n",
              "            0.04948279,  0.1998582 , -0.08086814, -0.11944097,\n",
              "           -0.15255825, -0.0922262 , -0.02246496, -0.21037513]],\n",
              " \n",
              "         [[-0.02137771, -0.10146374, -0.12507178, -0.00587563,\n",
              "           -0.14959218,  0.14759253, -0.12648608,  0.057196  ,\n",
              "           -0.18192497, -0.12489646,  0.05534738, -0.07421689,\n",
              "           -0.00324495, -0.13360816,  0.03484638, -0.13411844,\n",
              "           -0.05405615,  0.1228945 , -0.13657704, -0.03409517,\n",
              "           -0.17261836,  0.00466527,  0.07921109,  0.01082124,\n",
              "            0.00819478,  0.17130993, -0.11890277, -0.0509924 ,\n",
              "           -0.16995665,  0.0449655 , -0.13404892,  0.05841829]],\n",
              " \n",
              "         [[-0.04417929, -0.10446219,  0.04550485, -0.1838104 ,\n",
              "           -0.13552083,  0.06225949,  0.07477581, -0.1654428 ,\n",
              "           -0.18277985,  0.12774473, -0.07400528, -0.11562571,\n",
              "            0.14611317, -0.08025266,  0.12704922, -0.08832967,\n",
              "            0.08715755, -0.10554263, -0.16334091, -0.21184587,\n",
              "           -0.13571836, -0.08378559,  0.0158667 , -0.01833837,\n",
              "           -0.03219352,  0.01532298,  0.03502027, -0.07071619,\n",
              "            0.17717144,  0.07488045,  0.10549362,  0.09680921]]],\n",
              " \n",
              " \n",
              "        [[[ 0.03686991, -0.02216882, -0.00174875, -0.1497691 ,\n",
              "           -0.17131378, -0.08809341,  0.07321394,  0.05409875,\n",
              "           -0.07584526, -0.1018887 ,  0.04562797,  0.07370852,\n",
              "            0.07437642, -0.08625315, -0.12546045, -0.05375833,\n",
              "            0.00341312, -0.13674642, -0.02653196,  0.11260196,\n",
              "           -0.08277714,  0.09324021,  0.03581953,  0.04572053,\n",
              "            0.07735486, -0.01939678,  0.07395288,  0.00669305,\n",
              "           -0.11177608,  0.08827221,  0.11080419, -0.09861182]],\n",
              " \n",
              "         [[-0.09589622,  0.08720893, -0.15312767,  0.0583262 ,\n",
              "           -0.1042233 ,  0.08488247, -0.01294972,  0.07170287,\n",
              "            0.01000659,  0.03987958,  0.00567561, -0.06809927,\n",
              "            0.05365173, -0.04723658, -0.03605935,  0.01305686,\n",
              "           -0.08280098,  0.05638576, -0.05601465,  0.07531729,\n",
              "           -0.11581947, -0.16985992, -0.11468691, -0.12838851,\n",
              "           -0.041565  ,  0.05359127, -0.0245819 , -0.00919751,\n",
              "            0.02772808, -0.15718889,  0.03342037, -0.07523301]],\n",
              " \n",
              "         [[ 0.10504629, -0.14577496,  0.05978255, -0.01937332,\n",
              "            0.09067302, -0.09561756, -0.11585914, -0.04345211,\n",
              "            0.09640478, -0.06894539, -0.0887211 , -0.1479151 ,\n",
              "            0.12544824,  0.04865118, -0.04069119,  0.04166944,\n",
              "           -0.08760184,  0.03175172, -0.04554694, -0.11187641,\n",
              "            0.09506013,  0.06282136,  0.06775811,  0.03005155,\n",
              "           -0.07321585, -0.02331387,  0.01459498,  0.06290677,\n",
              "            0.0382763 , -0.17462869, -0.16967137, -0.10294609]]],\n",
              " \n",
              " \n",
              "        [[[-0.03928206,  0.14453468, -0.06141052,  0.03542455,\n",
              "           -0.22007829, -0.24079187, -0.08346058, -0.20886216,\n",
              "            0.1047651 , -0.04214365,  0.03851555, -0.01289038,\n",
              "           -0.10232611, -0.1739987 , -0.12042009, -0.10737609,\n",
              "           -0.02177457,  0.06380731,  0.18408717,  0.0677468 ,\n",
              "           -0.08834537,  0.10201724, -0.09839024,  0.04765986,\n",
              "            0.04273379, -0.10922556, -0.1432547 ,  0.07242899,\n",
              "            0.02701402, -0.03241619, -0.08600687,  0.02083566]],\n",
              " \n",
              "         [[-0.0143887 , -0.08862197,  0.09368727, -0.01882365,\n",
              "           -0.02682179, -0.14767958,  0.09836867, -0.13160971,\n",
              "            0.09222928, -0.00379123,  0.03607778,  0.03170293,\n",
              "            0.01130104, -0.16151313, -0.20878276,  0.0560447 ,\n",
              "           -0.11917597,  0.11127   ,  0.12514804,  0.09346321,\n",
              "            0.16546394,  0.00911332, -0.06165528, -0.11230172,\n",
              "            0.00421917, -0.20843935,  0.07184807, -0.05468521,\n",
              "           -0.25452086,  0.01156246, -0.12309396, -0.19848584]],\n",
              " \n",
              "         [[-0.08729322, -0.03480811, -0.16351536, -0.17436224,\n",
              "            0.25490987, -0.0712064 ,  0.03362363, -0.19287391,\n",
              "            0.12995197, -0.02078096,  0.01333153,  0.06675153,\n",
              "           -0.05949893, -0.05118703,  0.04382459, -0.07418109,\n",
              "            0.03313769,  0.17662048, -0.01521273, -0.18107772,\n",
              "            0.08941593, -0.14310022,  0.11250597, -0.11274935,\n",
              "           -0.08263367, -0.22554907, -0.06148179, -0.05215658,\n",
              "           -0.11645843, -0.12223391, -0.07130876, -0.05934935]]]],\n",
              "       dtype=float32)>,\n",
              " <tf.Variable 'conv2d_3/bias:0' shape=(32,) dtype=float32, numpy=\n",
              " array([-0.03945304, -0.03431709, -0.05730871, -0.05081808, -0.00415027,\n",
              "        -0.00805101, -0.07784837, -0.02963945, -0.00342219, -0.06157063,\n",
              "        -0.10281754, -0.10357288, -0.07042237, -0.01877947, -0.00725441,\n",
              "        -0.02241812, -0.07017382, -0.1102832 , -0.01616175, -0.02034521,\n",
              "         0.01207445, -0.01422158, -0.05784769, -0.02246042, -0.01909591,\n",
              "         0.02636484, -0.05842246, -0.06077082, -0.01015542, -0.05306662,\n",
              "        -0.03758436, -0.06050934], dtype=float32)>,\n",
              " <tf.Variable 'conv2d_4/kernel:0' shape=(3, 3, 32, 32) dtype=float32, numpy=\n",
              " array([[[[ 1.01882458e-01, -1.47139933e-02, -8.83598179e-02, ...,\n",
              "            6.07001372e-02, -8.73023421e-02,  7.44365677e-02],\n",
              "          [ 1.41901281e-02, -1.45695673e-03, -1.99846640e-01, ...,\n",
              "            1.99030004e-02,  1.85540617e-02, -3.76383774e-02],\n",
              "          [ 4.73288214e-03, -7.45586902e-02, -5.79981133e-03, ...,\n",
              "           -4.35058996e-02, -2.14113537e-02,  5.91403842e-02],\n",
              "          ...,\n",
              "          [ 2.69968994e-02,  9.17285506e-04, -1.48166090e-01, ...,\n",
              "           -3.76163945e-02,  3.96510772e-02, -8.30338374e-02],\n",
              "          [ 6.56335652e-02, -3.55660506e-02, -9.04017910e-02, ...,\n",
              "            2.63467561e-02,  1.01724155e-01, -1.09002359e-01],\n",
              "          [ 1.46480247e-01, -5.27981073e-02, -1.04400322e-01, ...,\n",
              "           -5.60807511e-02,  6.57834932e-02, -1.02884583e-01]],\n",
              " \n",
              "         [[-4.94861230e-02,  1.09932721e-01, -1.27423584e-01, ...,\n",
              "            8.07963032e-03,  6.46277666e-02, -8.34586918e-02],\n",
              "          [ 1.64638042e-01,  9.54086334e-02, -1.33193396e-02, ...,\n",
              "           -4.77223247e-02,  8.39063302e-02, -5.21248206e-02],\n",
              "          [-2.01908916e-01, -3.99784446e-02,  1.15518384e-02, ...,\n",
              "           -6.06608689e-02,  1.15901098e-01,  3.08226794e-03],\n",
              "          ...,\n",
              "          [ 1.18915237e-01,  4.02841344e-02, -4.66974154e-02, ...,\n",
              "            9.77992546e-03, -6.95143119e-02, -1.15259849e-02],\n",
              "          [-1.64799258e-01,  6.20280914e-02,  6.17814325e-02, ...,\n",
              "           -5.98377250e-02,  6.18449003e-02,  4.22133431e-02],\n",
              "          [ 7.97031596e-02, -9.83725116e-02,  1.27668500e-01, ...,\n",
              "            5.17463721e-02, -1.34268910e-01,  1.86622534e-02]],\n",
              " \n",
              "         [[-1.19800016e-01, -3.17134224e-02, -7.49543011e-02, ...,\n",
              "            2.91705858e-02,  7.26955105e-03,  9.41191912e-02],\n",
              "          [-2.17964485e-01,  5.66967390e-02, -4.15610634e-02, ...,\n",
              "            5.54587282e-02,  1.61770526e-02,  3.71976271e-02],\n",
              "          [-1.57158732e-01,  2.89287753e-02,  8.49957168e-02, ...,\n",
              "            6.51213676e-02, -1.17296927e-01, -4.29088473e-02],\n",
              "          ...,\n",
              "          [-1.70412287e-02, -2.16689333e-02,  1.52431354e-01, ...,\n",
              "            1.16449393e-01, -7.81673864e-02,  1.40007839e-01],\n",
              "          [ 7.95595348e-02,  1.91416349e-02, -5.81034012e-02, ...,\n",
              "            8.47184509e-02,  5.11931926e-02,  1.51766926e-01],\n",
              "          [-8.52196738e-02,  6.58030435e-02,  5.35397306e-02, ...,\n",
              "           -1.02754898e-01,  9.82434489e-03,  9.90746841e-02]]],\n",
              " \n",
              " \n",
              "        [[[-1.07919253e-01,  1.62412412e-03,  2.96704639e-02, ...,\n",
              "           -2.60564517e-02, -1.04422525e-01, -1.15353219e-01],\n",
              "          [ 1.45154831e-04, -5.77201582e-02, -2.67667957e-02, ...,\n",
              "           -1.78975407e-02, -9.60464552e-02, -8.86428580e-02],\n",
              "          [-1.75168097e-01,  1.99182518e-02, -1.15226664e-01, ...,\n",
              "            1.38609424e-01,  1.19430507e-02, -4.19513322e-03],\n",
              "          ...,\n",
              "          [ 7.39996657e-02, -9.64169800e-02,  5.51810395e-03, ...,\n",
              "           -4.93058302e-02, -1.27322257e-01, -1.18808120e-01],\n",
              "          [-1.02153234e-01,  1.20871708e-01, -1.32629886e-01, ...,\n",
              "           -1.60644397e-01,  5.96655942e-02, -1.03840098e-01],\n",
              "          [-4.34192345e-02,  6.20796159e-02, -2.67995119e-01, ...,\n",
              "            2.41321027e-02, -9.78202373e-02,  2.61681862e-02]],\n",
              " \n",
              "         [[-1.16515577e-01, -2.49551199e-02, -7.75366426e-02, ...,\n",
              "            6.40701428e-02, -8.19615722e-02,  8.05192590e-02],\n",
              "          [-2.99519271e-01,  1.30369067e-02, -6.44860491e-02, ...,\n",
              "            1.04810625e-01,  8.49353746e-02, -3.20692956e-02],\n",
              "          [-5.22914082e-02, -7.42302537e-02, -5.42166792e-02, ...,\n",
              "           -3.49023491e-02, -1.07460260e-01, -9.79834720e-02],\n",
              "          ...,\n",
              "          [ 4.10132110e-02, -7.34447967e-03, -1.42824128e-01, ...,\n",
              "           -3.74654010e-02, -7.75203407e-02,  3.07520051e-02],\n",
              "          [-1.46730095e-01,  5.65967988e-03, -1.29294530e-01, ...,\n",
              "           -2.32230648e-02, -8.39900896e-02,  1.45143807e-01],\n",
              "          [-1.33432999e-01,  2.20682798e-03, -2.32250288e-01, ...,\n",
              "            7.12454924e-03, -1.84607727e-03, -7.39787444e-02]],\n",
              " \n",
              "         [[-3.94017771e-02, -9.53024998e-02,  8.40621889e-02, ...,\n",
              "           -6.91042095e-02,  6.26710504e-02,  1.47309666e-02],\n",
              "          [-2.09770456e-01,  1.02272168e-01,  1.37080714e-01, ...,\n",
              "            1.07063644e-01,  9.23703834e-02, -5.96936904e-02],\n",
              "          [-4.52824384e-02, -8.55232477e-02,  2.70752281e-01, ...,\n",
              "            5.42913862e-02, -3.76520902e-02,  9.47943330e-02],\n",
              "          ...,\n",
              "          [-4.72135730e-02, -6.60726279e-02,  1.58114657e-01, ...,\n",
              "           -1.16627268e-01, -1.94292422e-02, -2.08093133e-02],\n",
              "          [-1.03619490e-02, -4.63781618e-02,  1.99579507e-01, ...,\n",
              "            2.91086379e-02,  2.84498800e-02, -1.88749842e-02],\n",
              "          [ 5.28130233e-02, -1.48152649e-01,  1.67443559e-01, ...,\n",
              "            4.31724191e-02,  1.04453988e-01, -1.61497489e-01]]],\n",
              " \n",
              " \n",
              "        [[[-1.01135336e-01,  1.65691227e-02, -5.11047728e-02, ...,\n",
              "            7.70934671e-02, -9.62455720e-02,  4.24986593e-02],\n",
              "          [-5.63536063e-02, -1.18112646e-01,  9.94031802e-02, ...,\n",
              "           -2.18897030e-01, -1.48384571e-01,  4.14262488e-02],\n",
              "          [ 2.42971461e-02, -4.29682769e-02, -1.18329778e-01, ...,\n",
              "            8.37849453e-02,  4.03793454e-02, -6.15401380e-03],\n",
              "          ...,\n",
              "          [-3.33793908e-02, -3.49034891e-02,  2.58223210e-02, ...,\n",
              "            4.79596741e-02, -3.82815227e-02,  9.23394561e-02],\n",
              "          [ 7.55481273e-02,  4.41495217e-02, -2.95968167e-02, ...,\n",
              "           -5.52424230e-02,  1.37443643e-03, -6.15753569e-02],\n",
              "          [-1.47647336e-02, -1.77824963e-02, -2.64205486e-02, ...,\n",
              "           -1.17685825e-01, -1.17877610e-01,  8.71412456e-02]],\n",
              " \n",
              "         [[ 7.65981004e-02, -5.30079603e-02,  1.41614927e-02, ...,\n",
              "            2.11874302e-02, -7.17504546e-02, -7.39102960e-02],\n",
              "          [-2.19639927e-01, -1.41328543e-01, -3.08946855e-02, ...,\n",
              "            3.40793803e-02,  9.79617611e-02,  2.17892602e-03],\n",
              "          [ 4.65238616e-02, -2.09392995e-01, -1.43469140e-01, ...,\n",
              "            6.23388998e-02, -2.92452499e-02, -3.76095362e-02],\n",
              "          ...,\n",
              "          [ 7.10136630e-03, -2.83875708e-02,  1.37237057e-01, ...,\n",
              "           -3.25469896e-02, -9.66299102e-02, -5.73470742e-02],\n",
              "          [ 9.76766273e-03, -5.51903285e-02, -3.74690853e-02, ...,\n",
              "            3.21716517e-02, -8.73802379e-02,  5.43225370e-02],\n",
              "          [-7.92185441e-02, -7.72866011e-02, -5.13761267e-02, ...,\n",
              "           -4.20254320e-02, -9.94748324e-02, -4.64358777e-02]],\n",
              " \n",
              "         [[ 7.73769468e-02, -3.21251340e-02, -9.26609784e-02, ...,\n",
              "            7.75634050e-02, -1.10629745e-01,  3.51748243e-02],\n",
              "          [-1.78313926e-01, -1.24459870e-01,  8.04936141e-02, ...,\n",
              "           -5.94075620e-02,  8.06983095e-03, -2.33107638e-02],\n",
              "          [ 5.72227931e-04, -3.76761518e-02, -6.39471933e-02, ...,\n",
              "            6.57645017e-02, -6.14662617e-02, -3.93591113e-02],\n",
              "          ...,\n",
              "          [ 3.01399324e-02, -1.50078060e-02,  1.04484111e-01, ...,\n",
              "           -1.28722265e-01, -9.03206095e-02,  6.50569797e-02],\n",
              "          [-7.27719720e-03, -1.00981154e-01,  8.03195909e-02, ...,\n",
              "            3.02998200e-02, -8.76732767e-02, -2.27682725e-01],\n",
              "          [ 2.89755389e-02, -1.47136584e-01, -1.23544335e-02, ...,\n",
              "           -8.48132744e-02,  5.86416898e-03,  2.31082663e-02]]]],\n",
              "       dtype=float32)>,\n",
              " <tf.Variable 'conv2d_4/bias:0' shape=(32,) dtype=float32, numpy=\n",
              " array([-0.00178662, -0.00723932, -0.00949052,  0.00211876, -0.00989114,\n",
              "         0.00775068, -0.04794495, -0.04587313, -0.04885537, -0.01324811,\n",
              "        -0.04237941, -0.03037478, -0.03281085, -0.02973042, -0.05032137,\n",
              "         0.00947115, -0.04241879, -0.06717099, -0.02747399,  0.00661812,\n",
              "         0.02037594, -0.05803934, -0.01616341, -0.08123845, -0.00698075,\n",
              "        -0.05171975, -0.00804455, -0.02089933, -0.01732235, -0.00719304,\n",
              "        -0.00266805, -0.01717298], dtype=float32)>,\n",
              " <tf.Variable 'conv2d_5/kernel:0' shape=(3, 3, 32, 32) dtype=float32, numpy=\n",
              " array([[[[-0.14872329, -0.05757095, -0.12665917, ..., -0.1378413 ,\n",
              "            0.07736196,  0.17505117],\n",
              "          [ 0.10059617, -0.14954706, -0.01231898, ...,  0.07613447,\n",
              "           -0.01740277,  0.06675167],\n",
              "          [-0.2277397 ,  0.2321171 ,  0.10706924, ...,  0.06446866,\n",
              "           -0.07946718, -0.16889867],\n",
              "          ...,\n",
              "          [ 0.02849555, -0.02544668,  0.02416837, ...,  0.0170035 ,\n",
              "           -0.13728547, -0.2803213 ],\n",
              "          [-0.05017188, -0.08103608, -0.02887714, ...,  0.05365823,\n",
              "           -0.00751505,  0.03893938],\n",
              "          [ 0.04570739, -0.26944003,  0.01263891, ...,  0.10804996,\n",
              "           -0.04701887, -0.1398851 ]],\n",
              " \n",
              "         [[ 0.03828366,  0.02421607, -0.1652849 , ...,  0.08559155,\n",
              "            0.21702006,  0.04582238],\n",
              "          [-0.01268374, -0.19408602,  0.00682939, ..., -0.08226934,\n",
              "           -0.00955617,  0.06973995],\n",
              "          [-0.21834698,  0.09422655,  0.06313939, ..., -0.18074542,\n",
              "           -0.01674443,  0.06467699],\n",
              "          ...,\n",
              "          [-0.0534643 ,  0.01528263, -0.00656964, ...,  0.0913904 ,\n",
              "            0.04062377, -0.03267719],\n",
              "          [ 0.09885615, -0.10999241,  0.02732162, ...,  0.14252755,\n",
              "           -0.08941258, -0.03495113],\n",
              "          [-0.07890622, -0.21552354,  0.01071019, ..., -0.04856343,\n",
              "           -0.15075283, -0.12245838]],\n",
              " \n",
              "         [[-0.09213103,  0.08915256, -0.06314578, ..., -0.02209811,\n",
              "            0.19045502, -0.03100035],\n",
              "          [ 0.08249752, -0.1515137 , -0.06639066, ..., -0.01175963,\n",
              "           -0.01339634, -0.01668167],\n",
              "          [ 0.02023556, -0.04130468, -0.02250267, ...,  0.1017701 ,\n",
              "            0.11267146,  0.19786708],\n",
              "          ...,\n",
              "          [-0.14665884, -0.04722128, -0.03932406, ...,  0.09081616,\n",
              "           -0.09791678,  0.03207141],\n",
              "          [-0.15101434,  0.12956022,  0.011175  , ...,  0.04011061,\n",
              "           -0.23084545,  0.05401279],\n",
              "          [-0.13299385, -0.1950717 , -0.08295763, ..., -0.22717255,\n",
              "            0.01232912,  0.05606365]]],\n",
              " \n",
              " \n",
              "        [[[-0.00749309,  0.18227348, -0.0247002 , ..., -0.02023186,\n",
              "           -0.08563449, -0.15274623],\n",
              "          [-0.01891989,  0.04847077, -0.05533902, ..., -0.00209471,\n",
              "           -0.04243295,  0.02330599],\n",
              "          [-0.09063137, -0.17507541, -0.14175549, ..., -0.00114764,\n",
              "           -0.0863127 , -0.10131088],\n",
              "          ...,\n",
              "          [ 0.1472708 , -0.04289484, -0.04242006, ..., -0.01106089,\n",
              "           -0.06944197, -0.10567784],\n",
              "          [ 0.03286968, -0.18817198,  0.06050465, ..., -0.11269294,\n",
              "            0.07595269, -0.25416666],\n",
              "          [ 0.09896293, -0.16130958, -0.00812066, ...,  0.0920939 ,\n",
              "           -0.07994662,  0.0429485 ]],\n",
              " \n",
              "         [[-0.06553853,  0.08551219,  0.05099121, ...,  0.05186319,\n",
              "           -0.04449968, -0.17724562],\n",
              "          [-0.14424689, -0.06212073, -0.06614704, ..., -0.09613878,\n",
              "           -0.03626482, -0.12843905],\n",
              "          [-0.0420133 , -0.04439153, -0.12822129, ..., -0.03009159,\n",
              "           -0.02798147, -0.02734298],\n",
              "          ...,\n",
              "          [-0.18680584, -0.14319566, -0.09672377, ..., -0.07675245,\n",
              "           -0.07003793, -0.07411595],\n",
              "          [-0.01033524,  0.11492394,  0.01394865, ...,  0.00498478,\n",
              "           -0.12263194, -0.06919424],\n",
              "          [-0.04725548,  0.03494656, -0.05086417, ..., -0.18569398,\n",
              "           -0.02603469, -0.23239751]],\n",
              " \n",
              "         [[-0.069139  ,  0.00257848,  0.1159397 , ..., -0.25622803,\n",
              "            0.11711578, -0.19117917],\n",
              "          [-0.09548818,  0.0878142 , -0.05258817, ...,  0.06203472,\n",
              "           -0.04854387, -0.00076479],\n",
              "          [ 0.11689193, -0.15194607, -0.10366141, ...,  0.05096279,\n",
              "            0.06707454,  0.23472098],\n",
              "          ...,\n",
              "          [ 0.0298093 , -0.0452998 ,  0.02846339, ..., -0.07677848,\n",
              "            0.02121391,  0.03888111],\n",
              "          [-0.0747933 ,  0.00352302,  0.07381018, ..., -0.09408943,\n",
              "           -0.16029517, -0.13014805],\n",
              "          [-0.02261909,  0.01265002,  0.02559318, ..., -0.06321516,\n",
              "            0.0895247 , -0.23344438]]],\n",
              " \n",
              " \n",
              "        [[[-0.16345043,  0.05142414, -0.01434205, ...,  0.13383889,\n",
              "           -0.07497887, -0.01027406],\n",
              "          [-0.08182707, -0.00956706, -0.05308232, ...,  0.11251339,\n",
              "            0.03035129,  0.08937992],\n",
              "          [-0.25082093, -0.24674341, -0.13078262, ...,  0.00558428,\n",
              "           -0.07611062, -0.2012755 ],\n",
              "          ...,\n",
              "          [-0.00217801,  0.12318907,  0.00824721, ..., -0.00773042,\n",
              "           -0.11886524, -0.08917687],\n",
              "          [ 0.10710966, -0.34989768,  0.05456694, ..., -0.07617977,\n",
              "            0.05935902,  0.00501868],\n",
              "          [ 0.04940196,  0.04372507,  0.03965803, ..., -0.0420533 ,\n",
              "           -0.16260837,  0.05802326]],\n",
              " \n",
              "         [[ 0.05893687,  0.0267126 , -0.08048052, ..., -0.02132698,\n",
              "           -0.14695701,  0.01330813],\n",
              "          [-0.02034567,  0.10186316, -0.00382517, ..., -0.09517384,\n",
              "           -0.10711956, -0.0067985 ],\n",
              "          [-0.06661856, -0.18774435, -0.10837064, ...,  0.02975476,\n",
              "            0.2080427 , -0.09680957],\n",
              "          ...,\n",
              "          [-0.21750282,  0.043205  ,  0.06088705, ..., -0.17610158,\n",
              "           -0.27732423,  0.00813995],\n",
              "          [-0.05724561, -0.13222317, -0.14440635, ...,  0.05095373,\n",
              "           -0.02488604,  0.02956802],\n",
              "          [-0.04697057,  0.14185902,  0.15569592, ..., -0.01481309,\n",
              "           -0.12382283, -0.13643447]],\n",
              " \n",
              "         [[ 0.10066713, -0.14106542,  0.00038449, ..., -0.18783088,\n",
              "           -0.01095289, -0.22571121],\n",
              "          [-0.02251144,  0.07791343,  0.12120534, ...,  0.09938207,\n",
              "           -0.10832813, -0.10968921],\n",
              "          [ 0.12553532, -0.14285935, -0.16865335, ...,  0.11165226,\n",
              "           -0.03701425,  0.25624862],\n",
              "          ...,\n",
              "          [-0.05333994, -0.09735748, -0.05060436, ..., -0.15204221,\n",
              "           -0.11176106,  0.0365718 ],\n",
              "          [-0.12857826, -0.11775336,  0.03328518, ..., -0.09166157,\n",
              "           -0.02635591,  0.00155973],\n",
              "          [-0.03350486,  0.07431434,  0.03185369, ..., -0.18860146,\n",
              "           -0.09868265, -0.13851082]]]], dtype=float32)>,\n",
              " <tf.Variable 'conv2d_5/bias:0' shape=(32,) dtype=float32, numpy=\n",
              " array([-0.0697701 , -0.00790091, -0.04417766, -0.02168704, -0.00373056,\n",
              "        -0.03963813, -0.02339747,  0.00255976, -0.05921306, -0.01043914,\n",
              "        -0.03113972, -0.04137856, -0.00794528, -0.06159771, -0.04892096,\n",
              "        -0.06060628, -0.01720702, -0.01714182, -0.02901299, -0.00419913,\n",
              "        -0.01961732, -0.05978183, -0.01347055, -0.02013418, -0.00866116,\n",
              "        -0.02525712, -0.00906607, -0.07387569, -0.02479381, -0.04637751,\n",
              "        -0.05442275, -0.05886469], dtype=float32)>,\n",
              " <tf.Variable 'dense_3/kernel:0' shape=(1152, 4180) dtype=float32, numpy=\n",
              " array([[-0.00123871, -0.03888241,  0.00420457, ..., -0.02340061,\n",
              "          0.00518706,  0.03273094],\n",
              "        [-0.101761  , -0.0630914 , -0.08963121, ..., -0.02365899,\n",
              "         -0.07292207,  0.05766141],\n",
              "        [-0.04918907, -0.04876413, -0.04432454, ..., -0.0391049 ,\n",
              "         -0.03785536, -0.0120066 ],\n",
              "        ...,\n",
              "        [-0.06246479, -0.01165671, -0.02107209, ..., -0.00869597,\n",
              "         -0.00621742, -0.05035551],\n",
              "        [ 0.00201969, -0.01999271,  0.02368255, ..., -0.03383717,\n",
              "         -0.03722455,  0.00534078],\n",
              "        [ 0.12107167, -0.01706823, -0.01789402, ..., -0.02018723,\n",
              "         -0.01837646, -0.00949704]], dtype=float32)>,\n",
              " <tf.Variable 'dense_3/bias:0' shape=(4180,) dtype=float32, numpy=\n",
              " array([-0.04141916, -0.01846547, -0.022876  , ..., -0.01745952,\n",
              "        -0.0645159 , -0.07409742], dtype=float32)>,\n",
              " <tf.Variable 'dense_4/kernel:0' shape=(4180, 4180) dtype=float32, numpy=\n",
              " array([[-0.02183935,  0.15606849, -0.04674413, ..., -0.0092453 ,\n",
              "          0.03226065,  0.05769284],\n",
              "        [-0.01667177, -0.16213626,  0.00367087, ...,  0.02225622,\n",
              "         -0.00486031,  0.01427802],\n",
              "        [ 0.02141695,  0.05269489, -0.06131588, ..., -0.02149948,\n",
              "         -0.01788997,  0.01354762],\n",
              "        ...,\n",
              "        [-0.00266879, -0.01983171, -0.00835419, ..., -0.00084938,\n",
              "          0.00078046,  0.0060753 ],\n",
              "        [-0.0245828 ,  0.05532869,  0.00121636, ...,  0.02511563,\n",
              "          0.00629201,  0.04131299],\n",
              "        [ 0.03746424,  0.03212801,  0.04519178, ..., -0.03999058,\n",
              "         -0.00692034,  0.03192961]], dtype=float32)>,\n",
              " <tf.Variable 'dense_4/bias:0' shape=(4180,) dtype=float32, numpy=\n",
              " array([-0.04987603,  0.01468851, -0.1251251 , ..., -0.1051254 ,\n",
              "        -0.02775975, -0.06406814], dtype=float32)>,\n",
              " <tf.Variable 'dense_5/kernel:0' shape=(4180, 10) dtype=float32, numpy=\n",
              " array([[-0.02003997, -0.0707505 ,  0.00379351, ...,  0.01770597,\n",
              "          0.01988842, -0.00903547],\n",
              "        [-0.08838084,  0.06550515,  0.07537049, ...,  0.05745065,\n",
              "         -0.08176682, -0.207867  ],\n",
              "        [ 0.06487177, -0.00740487, -0.11038876, ..., -0.02707572,\n",
              "         -0.02447192, -0.0170795 ],\n",
              "        ...,\n",
              "        [-0.06133144, -0.03779001, -0.07437645, ..., -0.01940162,\n",
              "         -0.05813188, -0.04915495],\n",
              "        [-0.15049882, -0.08411773, -0.03387624, ...,  0.03896216,\n",
              "          0.04517672, -0.04700855],\n",
              "        [-0.00297393, -0.02287856,  0.04882822, ...,  0.02220046,\n",
              "         -0.06370004,  0.02382177]], dtype=float32)>,\n",
              " <tf.Variable 'dense_5/bias:0' shape=(10,) dtype=float32, numpy=\n",
              " array([-0.02832356,  0.06329409, -0.01644265, -0.03782316,  0.01786329,\n",
              "         0.00848317, -0.02170644, -0.03328589,  0.06905774, -0.02700725],\n",
              "       dtype=float32)>]"
            ]
          },
          "metadata": {
            "tags": []
          },
          "execution_count": 14
        }
      ]
    },
    {
      "cell_type": "markdown",
      "metadata": {
        "id": "muU_QdZsbj-O"
      },
      "source": [
        "#Test"
      ]
    },
    {
      "cell_type": "code",
      "metadata": {
        "id": "KV-mjkU1isZl"
      },
      "source": [
        "test_generator = ImageDataGenerator(rescale=1./255,)"
      ],
      "execution_count": null,
      "outputs": []
    },
    {
      "cell_type": "code",
      "metadata": {
        "colab": {
          "base_uri": "https://localhost:8080/"
        },
        "id": "kzGZGlkNfBV6",
        "outputId": "35eeb35b-489f-4e69-cbff-97d51898f254"
      },
      "source": [
        "test_set = test_generator.flow_from_directory(\n",
        "    \"/content/drive/MyDrive/Data Science, Machine Learning/Colab Notebooks/Deep Learning Projects/Convolutional Neural Networks/Multi Classification/MNIST/data\",\n",
        "    target_size=(64,64),\n",
        "    batch_size=32,\n",
        "    color_mode=\"grayscale\",\n",
        "    classes=[\"Test\"]\n",
        ")"
      ],
      "execution_count": null,
      "outputs": [
        {
          "output_type": "stream",
          "text": [
            "Found 130 images belonging to 1 classes.\n"
          ],
          "name": "stdout"
        }
      ]
    },
    {
      "cell_type": "code",
      "metadata": {
        "id": "_VYQ4PhE6zL7"
      },
      "source": [
        "labels = np.array([0,1,2,3,4,5,6,7,8,9])"
      ],
      "execution_count": null,
      "outputs": []
    },
    {
      "cell_type": "code",
      "metadata": {
        "id": "ymDCe_XpAGOr"
      },
      "source": [
        "test_data, test_label = test_set.next()"
      ],
      "execution_count": null,
      "outputs": []
    },
    {
      "cell_type": "code",
      "metadata": {
        "colab": {
          "base_uri": "https://localhost:8080/"
        },
        "id": "sFzaFUES-yVM",
        "outputId": "57d0568a-11be-44a8-e979-fea5ef857830"
      },
      "source": [
        "test_data[0].shape"
      ],
      "execution_count": null,
      "outputs": [
        {
          "output_type": "execute_result",
          "data": {
            "text/plain": [
              "(64, 64, 1)"
            ]
          },
          "metadata": {
            "tags": []
          },
          "execution_count": 42
        }
      ]
    },
    {
      "cell_type": "code",
      "metadata": {
        "colab": {
          "base_uri": "https://localhost:8080/"
        },
        "id": "2BAnkqfOBFLJ",
        "outputId": "6bb390d2-15c2-4975-e528-43537c6c62bf"
      },
      "source": [
        "np.expand_dims(test_data[0],0).shape"
      ],
      "execution_count": null,
      "outputs": [
        {
          "output_type": "execute_result",
          "data": {
            "text/plain": [
              "(1, 64, 64, 1)"
            ]
          },
          "metadata": {
            "tags": []
          },
          "execution_count": 69
        }
      ]
    },
    {
      "cell_type": "code",
      "metadata": {
        "id": "-7Xyr2Al5FOp"
      },
      "source": [
        "def predict(data):\n",
        "  test_data, _ = test_set.next()\n",
        "  pred = cnn.predict(np.expand_dims(data,0))\n",
        "  return labels[np.argmax(pred)]"
      ],
      "execution_count": null,
      "outputs": []
    },
    {
      "cell_type": "code",
      "metadata": {
        "colab": {
          "base_uri": "https://localhost:8080/"
        },
        "id": "C1mAZ9R5Ah3v",
        "outputId": "ab46654e-f70b-40fd-d7db-dfd6477843bc"
      },
      "source": [
        "cnn.predict(np.expand_dims(test_data[0],0))"
      ],
      "execution_count": null,
      "outputs": [
        {
          "output_type": "execute_result",
          "data": {
            "text/plain": [
              "array([[9.70484504e-22, 5.32289311e-21, 1.00000000e+00, 3.10088944e-19,\n",
              "        1.68065239e-19, 6.21133323e-27, 1.16655836e-20, 1.11476585e-19,\n",
              "        5.44510167e-17, 4.29065813e-22]], dtype=float32)"
            ]
          },
          "metadata": {
            "tags": []
          },
          "execution_count": 44
        }
      ]
    },
    {
      "cell_type": "code",
      "metadata": {
        "colab": {
          "base_uri": "https://localhost:8080/"
        },
        "id": "PO3K7z_NAoEv",
        "outputId": "be72af15-ace7-42b0-a48a-03186f31575c"
      },
      "source": [
        "np.argmax(cnn.predict((np.expand_dims(test_data[0],0))))"
      ],
      "execution_count": null,
      "outputs": [
        {
          "output_type": "execute_result",
          "data": {
            "text/plain": [
              "2"
            ]
          },
          "metadata": {
            "tags": []
          },
          "execution_count": 51
        }
      ]
    },
    {
      "cell_type": "code",
      "metadata": {
        "colab": {
          "base_uri": "https://localhost:8080/"
        },
        "id": "207hoL3QAxmp",
        "outputId": "37cbbfd7-8676-46dd-86df-1dd0313fafbc"
      },
      "source": [
        "labels[2]"
      ],
      "execution_count": null,
      "outputs": [
        {
          "output_type": "execute_result",
          "data": {
            "text/plain": [
              "2"
            ]
          },
          "metadata": {
            "tags": []
          },
          "execution_count": 52
        }
      ]
    },
    {
      "cell_type": "code",
      "metadata": {
        "id": "CoFDT2BD7AAb"
      },
      "source": [
        "def show_img(data):\n",
        "  return image.array_to_img(data)"
      ],
      "execution_count": null,
      "outputs": []
    },
    {
      "cell_type": "code",
      "metadata": {
        "colab": {
          "base_uri": "https://localhost:8080/"
        },
        "id": "33YU2Iuw6SOs",
        "outputId": "8ed4c319-650e-4167-f996-276df626a1f1"
      },
      "source": [
        "predict(test_data[0])"
      ],
      "execution_count": null,
      "outputs": [
        {
          "output_type": "execute_result",
          "data": {
            "text/plain": [
              "2"
            ]
          },
          "metadata": {
            "tags": []
          },
          "execution_count": 54
        }
      ]
    },
    {
      "cell_type": "code",
      "metadata": {
        "colab": {
          "base_uri": "https://localhost:8080/",
          "height": 81
        },
        "id": "Y2aWiKJN6ZsN",
        "outputId": "1c308a8a-5584-496a-cd55-e4d77758b89e"
      },
      "source": [
        "show_img(test_data[0])"
      ],
      "execution_count": null,
      "outputs": [
        {
          "output_type": "execute_result",
          "data": {
            "image/png": "[encoded data removed]",
            "text/plain": [
              "<PIL.Image.Image image mode=L size=64x64 at 0x7F11AC1C9110>"
            ]
          },
          "metadata": {
            "tags": []
          },
          "execution_count": 55
        }
      ]
    },
    {
      "cell_type": "code",
      "metadata": {
        "colab": {
          "base_uri": "https://localhost:8080/"
        },
        "id": "oq8MWIDp6t3U",
        "outputId": "43315573-2160-4b35-da12-2058e6d38974"
      },
      "source": [
        "predict(test_data[1])"
      ],
      "execution_count": null,
      "outputs": [
        {
          "output_type": "execute_result",
          "data": {
            "text/plain": [
              "4"
            ]
          },
          "metadata": {
            "tags": []
          },
          "execution_count": 56
        }
      ]
    },
    {
      "cell_type": "code",
      "metadata": {
        "colab": {
          "base_uri": "https://localhost:8080/",
          "height": 81
        },
        "id": "3SFk4CrC6-wT",
        "outputId": "48faf008-ac46-48c0-e5a0-a5897e33599d"
      },
      "source": [
        "show_img(test_data[1])"
      ],
      "execution_count": null,
      "outputs": [
        {
          "output_type": "execute_result",
          "data": {
            "image/png": "[encoded data removed]",
            "text/plain": [
              "<PIL.Image.Image image mode=L size=64x64 at 0x7F11AC23D810>"
            ]
          },
          "metadata": {
            "tags": []
          },
          "execution_count": 57
        }
      ]
    },
    {
      "cell_type": "code",
      "metadata": {
        "colab": {
          "base_uri": "https://localhost:8080/"
        },
        "id": "R6kd1R5x7T8a",
        "outputId": "347b5612-3d07-4323-d881-f8843dd42db0"
      },
      "source": [
        "predict(test_data[2])"
      ],
      "execution_count": null,
      "outputs": [
        {
          "output_type": "execute_result",
          "data": {
            "text/plain": [
              "7"
            ]
          },
          "metadata": {
            "tags": []
          },
          "execution_count": 58
        }
      ]
    },
    {
      "cell_type": "code",
      "metadata": {
        "colab": {
          "base_uri": "https://localhost:8080/",
          "height": 81
        },
        "id": "ynY2dC0V7ZCE",
        "outputId": "90045e37-3c3f-4ed5-95b8-98730696958d"
      },
      "source": [
        "show_img(test_data[2])"
      ],
      "execution_count": null,
      "outputs": [
        {
          "output_type": "execute_result",
          "data": {
            "image/png": "[encoded data removed]",
            "text/plain": [
              "<PIL.Image.Image image mode=L size=64x64 at 0x7F11AC1AD790>"
            ]
          },
          "metadata": {
            "tags": []
          },
          "execution_count": 59
        }
      ]
    },
    {
      "cell_type": "code",
      "metadata": {
        "colab": {
          "base_uri": "https://localhost:8080/"
        },
        "id": "W2iL0zvN7aaH",
        "outputId": "6ead8a97-cc68-40d0-adac-3a11c1f129a6"
      },
      "source": [
        "predict(test_data[3])"
      ],
      "execution_count": null,
      "outputs": [
        {
          "output_type": "execute_result",
          "data": {
            "text/plain": [
              "4"
            ]
          },
          "metadata": {
            "tags": []
          },
          "execution_count": 60
        }
      ]
    },
    {
      "cell_type": "code",
      "metadata": {
        "colab": {
          "base_uri": "https://localhost:8080/",
          "height": 81
        },
        "id": "O68vP60N7dpH",
        "outputId": "9e70cbaf-cbfe-465e-8a27-3de8a43d10a3"
      },
      "source": [
        "show_img(test_data[3])"
      ],
      "execution_count": null,
      "outputs": [
        {
          "output_type": "execute_result",
          "data": {
            "image/png": "[encoded data removed]",
            "text/plain": [
              "<PIL.Image.Image image mode=L size=64x64 at 0x7F11AC150490>"
            ]
          },
          "metadata": {
            "tags": []
          },
          "execution_count": 61
        }
      ]
    }
  ]
}